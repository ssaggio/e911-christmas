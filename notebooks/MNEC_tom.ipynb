{
 "cells": [
  {
   "cell_type": "code",
   "execution_count": 1,
   "id": "2c546635",
   "metadata": {},
   "outputs": [],
   "source": [
    "from shapely.geometry import Point\n",
    "import pandas as pd\n",
    "import geopandas as gpd\n",
    "import matplotlib.pyplot as plt\n",
    "import folium\n",
    "from folium.plugins import MarkerCluster\n",
    "from folium.plugins import FastMarkerCluster\n",
    "\n",
    "%matplotlib inline"
   ]
  },
  {
   "cell_type": "code",
   "execution_count": 2,
   "id": "8db820a0",
   "metadata": {},
   "outputs": [],
   "source": [
    "derecho_calls = gpd.read_file('../data/911_Phone Calls_Derecho_050320_050420.csv')"
   ]
  },
  {
   "cell_type": "code",
   "execution_count": 3,
   "id": "69af36bb",
   "metadata": {},
   "outputs": [],
   "source": [
    "tornado_calls = gpd.read_file('../data/911_Phone_Calls_tornado_030320.csv')"
   ]
  },
  {
   "cell_type": "code",
   "execution_count": 4,
   "id": "2fa36424",
   "metadata": {},
   "outputs": [],
   "source": [
    "derecho_dispatch = pd.read_csv('../data/cadd_derecho.csv', skiprows = 2)"
   ]
  },
  {
   "cell_type": "code",
   "execution_count": 5,
   "id": "7eefc8fc",
   "metadata": {},
   "outputs": [],
   "source": [
    "tornado_dispatch = pd.read_csv('../data/cadd_tornado.csv', skiprows = 2)"
   ]
  },
  {
   "cell_type": "code",
   "execution_count": 6,
   "id": "770b8d8e",
   "metadata": {},
   "outputs": [],
   "source": [
    "damage_points = gpd.read_file('../data/damage_points.geojson')\n",
    "path_polygons = gpd.read_file('../data/path_polygons.geojson')\n",
    "tornado_paths = gpd.read_file('../data/tornado_paths.geojson')"
   ]
  },
  {
   "cell_type": "code",
   "execution_count": 7,
   "id": "50887323",
   "metadata": {},
   "outputs": [
    {
     "data": {
      "text/html": [
       "<div>\n",
       "<style scoped>\n",
       "    .dataframe tbody tr th:only-of-type {\n",
       "        vertical-align: middle;\n",
       "    }\n",
       "\n",
       "    .dataframe tbody tr th {\n",
       "        vertical-align: top;\n",
       "    }\n",
       "\n",
       "    .dataframe thead th {\n",
       "        text-align: right;\n",
       "    }\n",
       "</style>\n",
       "<table border=\"1\" class=\"dataframe\">\n",
       "  <thead>\n",
       "    <tr style=\"text-align: right;\">\n",
       "      <th></th>\n",
       "      <th>Seizure DateTime</th>\n",
       "      <th>CallTypeId</th>\n",
       "      <th>ALI Latitude</th>\n",
       "      <th>ALI Longitude</th>\n",
       "      <th>Cell Tower Address</th>\n",
       "      <th>geometry</th>\n",
       "    </tr>\n",
       "  </thead>\n",
       "  <tbody>\n",
       "    <tr>\n",
       "      <th>0</th>\n",
       "      <td>5/3/2020 16:30</td>\n",
       "      <td>911 Calls</td>\n",
       "      <td>36.247802</td>\n",
       "      <td>-86.716847</td>\n",
       "      <td>WIRELESS CALLER</td>\n",
       "      <td>None</td>\n",
       "    </tr>\n",
       "    <tr>\n",
       "      <th>1</th>\n",
       "      <td>5/3/2020 16:30</td>\n",
       "      <td>911 Calls</td>\n",
       "      <td>36.143108</td>\n",
       "      <td>-86.800621</td>\n",
       "      <td>1161 21ST AV S - SE</td>\n",
       "      <td>None</td>\n",
       "    </tr>\n",
       "  </tbody>\n",
       "</table>\n",
       "</div>"
      ],
      "text/plain": [
       "  Seizure DateTime CallTypeId ALI Latitude ALI Longitude   Cell Tower Address  \\\n",
       "0   5/3/2020 16:30  911 Calls    36.247802    -86.716847      WIRELESS CALLER   \n",
       "1   5/3/2020 16:30  911 Calls    36.143108    -86.800621  1161 21ST AV S - SE   \n",
       "\n",
       "  geometry  \n",
       "0     None  \n",
       "1     None  "
      ]
     },
     "execution_count": 7,
     "metadata": {},
     "output_type": "execute_result"
    }
   ],
   "source": [
    "derecho_calls.head(2)"
   ]
  },
  {
   "cell_type": "code",
   "execution_count": 8,
   "id": "80522fdd",
   "metadata": {},
   "outputs": [
    {
     "data": {
      "text/html": [
       "<div>\n",
       "<style scoped>\n",
       "    .dataframe tbody tr th:only-of-type {\n",
       "        vertical-align: middle;\n",
       "    }\n",
       "\n",
       "    .dataframe tbody tr th {\n",
       "        vertical-align: top;\n",
       "    }\n",
       "\n",
       "    .dataframe thead th {\n",
       "        text-align: right;\n",
       "    }\n",
       "</style>\n",
       "<table border=\"1\" class=\"dataframe\">\n",
       "  <thead>\n",
       "    <tr style=\"text-align: right;\">\n",
       "      <th></th>\n",
       "      <th>Seizure DateTime</th>\n",
       "      <th>CallTypeId</th>\n",
       "      <th>ALI Latitude</th>\n",
       "      <th>ALI Longitude</th>\n",
       "      <th>Cell Tower Address</th>\n",
       "      <th>geometry</th>\n",
       "    </tr>\n",
       "  </thead>\n",
       "  <tbody>\n",
       "    <tr>\n",
       "      <th>1547</th>\n",
       "      <td>5/4/2020 0:29</td>\n",
       "      <td>911 Calls</td>\n",
       "      <td>36.024706</td>\n",
       "      <td>-86.743562</td>\n",
       "      <td>302 SUMMIT VIEW DR - E</td>\n",
       "      <td>None</td>\n",
       "    </tr>\n",
       "    <tr>\n",
       "      <th>1548</th>\n",
       "      <td>5/4/2020 0:29</td>\n",
       "      <td>911 Calls</td>\n",
       "      <td></td>\n",
       "      <td></td>\n",
       "      <td>2014 QUAIL HOLLOW CIR</td>\n",
       "      <td>None</td>\n",
       "    </tr>\n",
       "  </tbody>\n",
       "</table>\n",
       "</div>"
      ],
      "text/plain": [
       "     Seizure DateTime CallTypeId ALI Latitude ALI Longitude  \\\n",
       "1547    5/4/2020 0:29  911 Calls    36.024706    -86.743562   \n",
       "1548    5/4/2020 0:29  911 Calls                              \n",
       "\n",
       "          Cell Tower Address geometry  \n",
       "1547  302 SUMMIT VIEW DR - E     None  \n",
       "1548   2014 QUAIL HOLLOW CIR     None  "
      ]
     },
     "execution_count": 8,
     "metadata": {},
     "output_type": "execute_result"
    }
   ],
   "source": [
    "derecho_calls.tail(2)"
   ]
  },
  {
   "cell_type": "code",
   "execution_count": 9,
   "id": "b35e5637",
   "metadata": {},
   "outputs": [
    {
     "data": {
      "text/html": [
       "<div>\n",
       "<style scoped>\n",
       "    .dataframe tbody tr th:only-of-type {\n",
       "        vertical-align: middle;\n",
       "    }\n",
       "\n",
       "    .dataframe tbody tr th {\n",
       "        vertical-align: top;\n",
       "    }\n",
       "\n",
       "    .dataframe thead th {\n",
       "        text-align: right;\n",
       "    }\n",
       "</style>\n",
       "<table border=\"1\" class=\"dataframe\">\n",
       "  <thead>\n",
       "    <tr style=\"text-align: right;\">\n",
       "      <th></th>\n",
       "      <th>Seizure DateTime</th>\n",
       "      <th>CallTypeId</th>\n",
       "      <th>ALI Latitude</th>\n",
       "      <th>ALI Longitude</th>\n",
       "      <th>Cell Tower Address</th>\n",
       "      <th>geometry</th>\n",
       "    </tr>\n",
       "  </thead>\n",
       "  <tbody>\n",
       "    <tr>\n",
       "      <th>0</th>\n",
       "      <td>3/3/2020 0:34</td>\n",
       "      <td>911 Calls</td>\n",
       "      <td>36.072708</td>\n",
       "      <td>-86.665779</td>\n",
       "      <td>620 Richards RD - N Sector</td>\n",
       "      <td>None</td>\n",
       "    </tr>\n",
       "    <tr>\n",
       "      <th>1</th>\n",
       "      <td>3/3/2020 0:36</td>\n",
       "      <td>911 Calls</td>\n",
       "      <td>36.159634</td>\n",
       "      <td>-86.841904</td>\n",
       "      <td>4507D KENTUCKY AV - SE</td>\n",
       "      <td>None</td>\n",
       "    </tr>\n",
       "  </tbody>\n",
       "</table>\n",
       "</div>"
      ],
      "text/plain": [
       "  Seizure DateTime CallTypeId ALI Latitude ALI Longitude  \\\n",
       "0    3/3/2020 0:34  911 Calls    36.072708    -86.665779   \n",
       "1    3/3/2020 0:36  911 Calls    36.159634    -86.841904   \n",
       "\n",
       "           Cell Tower Address geometry  \n",
       "0  620 Richards RD - N Sector     None  \n",
       "1      4507D KENTUCKY AV - SE     None  "
      ]
     },
     "execution_count": 9,
     "metadata": {},
     "output_type": "execute_result"
    }
   ],
   "source": [
    "tornado_calls.head(2)"
   ]
  },
  {
   "cell_type": "code",
   "execution_count": 10,
   "id": "7d8e9af3",
   "metadata": {},
   "outputs": [
    {
     "data": {
      "text/html": [
       "<div>\n",
       "<style scoped>\n",
       "    .dataframe tbody tr th:only-of-type {\n",
       "        vertical-align: middle;\n",
       "    }\n",
       "\n",
       "    .dataframe tbody tr th {\n",
       "        vertical-align: top;\n",
       "    }\n",
       "\n",
       "    .dataframe thead th {\n",
       "        text-align: right;\n",
       "    }\n",
       "</style>\n",
       "<table border=\"1\" class=\"dataframe\">\n",
       "  <thead>\n",
       "    <tr style=\"text-align: right;\">\n",
       "      <th></th>\n",
       "      <th>Seizure DateTime</th>\n",
       "      <th>CallTypeId</th>\n",
       "      <th>ALI Latitude</th>\n",
       "      <th>ALI Longitude</th>\n",
       "      <th>Cell Tower Address</th>\n",
       "      <th>geometry</th>\n",
       "    </tr>\n",
       "  </thead>\n",
       "  <tbody>\n",
       "    <tr>\n",
       "      <th>473</th>\n",
       "      <td>3/3/2020 4:56</td>\n",
       "      <td>911 Calls</td>\n",
       "      <td>36.168398</td>\n",
       "      <td>-86.783774</td>\n",
       "      <td>600 DR MARTIN L KING JR BLVD - NE</td>\n",
       "      <td>None</td>\n",
       "    </tr>\n",
       "    <tr>\n",
       "      <th>474</th>\n",
       "      <td>3/3/2020 4:58</td>\n",
       "      <td>911 Calls</td>\n",
       "      <td>36.276566</td>\n",
       "      <td>-86.799417</td>\n",
       "      <td>4884 LICKTON PIKE - SE</td>\n",
       "      <td>None</td>\n",
       "    </tr>\n",
       "  </tbody>\n",
       "</table>\n",
       "</div>"
      ],
      "text/plain": [
       "    Seizure DateTime CallTypeId ALI Latitude ALI Longitude  \\\n",
       "473    3/3/2020 4:56  911 Calls    36.168398    -86.783774   \n",
       "474    3/3/2020 4:58  911 Calls    36.276566    -86.799417   \n",
       "\n",
       "                    Cell Tower Address geometry  \n",
       "473  600 DR MARTIN L KING JR BLVD - NE     None  \n",
       "474             4884 LICKTON PIKE - SE     None  "
      ]
     },
     "execution_count": 10,
     "metadata": {},
     "output_type": "execute_result"
    }
   ],
   "source": [
    "tornado_calls.tail(2)"
   ]
  },
  {
   "cell_type": "code",
   "execution_count": 11,
   "id": "c45cd5f1",
   "metadata": {},
   "outputs": [
    {
     "data": {
      "text/html": [
       "<div>\n",
       "<style scoped>\n",
       "    .dataframe tbody tr th:only-of-type {\n",
       "        vertical-align: middle;\n",
       "    }\n",
       "\n",
       "    .dataframe tbody tr th {\n",
       "        vertical-align: top;\n",
       "    }\n",
       "\n",
       "    .dataframe thead th {\n",
       "        text-align: right;\n",
       "    }\n",
       "</style>\n",
       "<table border=\"1\" class=\"dataframe\">\n",
       "  <thead>\n",
       "    <tr style=\"text-align: right;\">\n",
       "      <th></th>\n",
       "      <th>IncidentDate</th>\n",
       "      <th>Location</th>\n",
       "      <th>Latitude1</th>\n",
       "      <th>Longitude1</th>\n",
       "      <th>IncidentTypeDescription1</th>\n",
       "    </tr>\n",
       "  </thead>\n",
       "  <tbody>\n",
       "    <tr>\n",
       "      <th>0</th>\n",
       "      <td>5/3/2020 4:31:07 PM</td>\n",
       "      <td>901 KENWICK CT W</td>\n",
       "      <td>36.046877</td>\n",
       "      <td>-86.962526</td>\n",
       "      <td>ELECTRICAL HAZARD</td>\n",
       "    </tr>\n",
       "    <tr>\n",
       "      <th>1</th>\n",
       "      <td>5/3/2020 4:32:18 PM</td>\n",
       "      <td>8036 ARBOR DR</td>\n",
       "      <td>36.082491</td>\n",
       "      <td>-86.940680</td>\n",
       "      <td>ELECTRICAL HAZARD</td>\n",
       "    </tr>\n",
       "  </tbody>\n",
       "</table>\n",
       "</div>"
      ],
      "text/plain": [
       "          IncidentDate          Location  Latitude1  Longitude1  \\\n",
       "0  5/3/2020 4:31:07 PM  901 KENWICK CT W  36.046877  -86.962526   \n",
       "1  5/3/2020 4:32:18 PM     8036 ARBOR DR  36.082491  -86.940680   \n",
       "\n",
       "  IncidentTypeDescription1  \n",
       "0        ELECTRICAL HAZARD  \n",
       "1        ELECTRICAL HAZARD  "
      ]
     },
     "execution_count": 11,
     "metadata": {},
     "output_type": "execute_result"
    }
   ],
   "source": [
    "derecho_dispatch.head(2)"
   ]
  },
  {
   "cell_type": "code",
   "execution_count": 12,
   "id": "6e0556cf",
   "metadata": {},
   "outputs": [
    {
     "data": {
      "text/html": [
       "<div>\n",
       "<style scoped>\n",
       "    .dataframe tbody tr th:only-of-type {\n",
       "        vertical-align: middle;\n",
       "    }\n",
       "\n",
       "    .dataframe tbody tr th {\n",
       "        vertical-align: top;\n",
       "    }\n",
       "\n",
       "    .dataframe thead th {\n",
       "        text-align: right;\n",
       "    }\n",
       "</style>\n",
       "<table border=\"1\" class=\"dataframe\">\n",
       "  <thead>\n",
       "    <tr style=\"text-align: right;\">\n",
       "      <th></th>\n",
       "      <th>IncidentDate</th>\n",
       "      <th>Location</th>\n",
       "      <th>Latitude1</th>\n",
       "      <th>Longitude1</th>\n",
       "      <th>IncidentTypeDescription1</th>\n",
       "    </tr>\n",
       "  </thead>\n",
       "  <tbody>\n",
       "    <tr>\n",
       "      <th>0</th>\n",
       "      <td>3/3/2020 12:36:34 AM</td>\n",
       "      <td>6205 COCKRILL BEND CIR</td>\n",
       "      <td>36.182002</td>\n",
       "      <td>-86.894052</td>\n",
       "      <td>GENERAL ALARM COMMERCIAL   INDUSTRIAL BUILD</td>\n",
       "    </tr>\n",
       "    <tr>\n",
       "      <th>1</th>\n",
       "      <td>3/3/2020 12:37:24 AM</td>\n",
       "      <td>7337 COCKRILL BEND BLVD</td>\n",
       "      <td>36.175666</td>\n",
       "      <td>-86.894978</td>\n",
       "      <td>GENERAL ALARM COMMERCIAL   INDUSTRIAL BUILD</td>\n",
       "    </tr>\n",
       "  </tbody>\n",
       "</table>\n",
       "</div>"
      ],
      "text/plain": [
       "           IncidentDate                  Location  Latitude1  Longitude1  \\\n",
       "0  3/3/2020 12:36:34 AM   6205 COCKRILL BEND CIR   36.182002  -86.894052   \n",
       "1  3/3/2020 12:37:24 AM  7337 COCKRILL BEND BLVD   36.175666  -86.894978   \n",
       "\n",
       "                      IncidentTypeDescription1  \n",
       "0  GENERAL ALARM COMMERCIAL   INDUSTRIAL BUILD  \n",
       "1  GENERAL ALARM COMMERCIAL   INDUSTRIAL BUILD  "
      ]
     },
     "execution_count": 12,
     "metadata": {},
     "output_type": "execute_result"
    }
   ],
   "source": [
    "tornado_dispatch.head(2)"
   ]
  },
  {
   "cell_type": "code",
   "execution_count": 13,
   "id": "7408b26f",
   "metadata": {},
   "outputs": [
    {
     "name": "stdout",
     "output_type": "stream",
     "text": [
      "epsg:4326\n"
     ]
    },
    {
     "data": {
      "text/html": [
       "<div>\n",
       "<style scoped>\n",
       "    .dataframe tbody tr th:only-of-type {\n",
       "        vertical-align: middle;\n",
       "    }\n",
       "\n",
       "    .dataframe tbody tr th {\n",
       "        vertical-align: top;\n",
       "    }\n",
       "\n",
       "    .dataframe thead th {\n",
       "        text-align: right;\n",
       "    }\n",
       "</style>\n",
       "<table border=\"1\" class=\"dataframe\">\n",
       "  <thead>\n",
       "    <tr style=\"text-align: right;\">\n",
       "      <th></th>\n",
       "      <th>objectid</th>\n",
       "      <th>stormdate</th>\n",
       "      <th>surveydate</th>\n",
       "      <th>event_id</th>\n",
       "      <th>damage</th>\n",
       "      <th>damage_txt</th>\n",
       "      <th>dod_txt</th>\n",
       "      <th>efscale</th>\n",
       "      <th>damage_dir</th>\n",
       "      <th>windspeed</th>\n",
       "      <th>...</th>\n",
       "      <th>device_id</th>\n",
       "      <th>qc</th>\n",
       "      <th>dod</th>\n",
       "      <th>surveytype</th>\n",
       "      <th>globalid</th>\n",
       "      <th>edit_user</th>\n",
       "      <th>edit_time</th>\n",
       "      <th>comments</th>\n",
       "      <th>path_guid</th>\n",
       "      <th>geometry</th>\n",
       "    </tr>\n",
       "  </thead>\n",
       "  <tbody>\n",
       "    <tr>\n",
       "      <th>0</th>\n",
       "      <td>2047717</td>\n",
       "      <td>1583218620000</td>\n",
       "      <td>1583335680000</td>\n",
       "      <td>Mount Juliet</td>\n",
       "      <td>2</td>\n",
       "      <td>One- or Two-Family Residences (FR12)</td>\n",
       "      <td>All walls collapsed</td>\n",
       "      <td>EF3</td>\n",
       "      <td>N/A</td>\n",
       "      <td>155</td>\n",
       "      <td>...</td>\n",
       "      <td>None</td>\n",
       "      <td>Y</td>\n",
       "      <td>9</td>\n",
       "      <td>None</td>\n",
       "      <td>{FE82BBAC-ABF8-4562-81F6-A527829FBFFE}</td>\n",
       "      <td>None</td>\n",
       "      <td>None</td>\n",
       "      <td>none</td>\n",
       "      <td>None</td>\n",
       "      <td>POINT (-86.51628 36.18344)</td>\n",
       "    </tr>\n",
       "    <tr>\n",
       "      <th>1</th>\n",
       "      <td>2047909</td>\n",
       "      <td>1583221860000</td>\n",
       "      <td>1583437860000</td>\n",
       "      <td>Cookeville</td>\n",
       "      <td>27</td>\n",
       "      <td>Trees: Hardwood (TH)</td>\n",
       "      <td>Trees uprooted</td>\n",
       "      <td>EF0</td>\n",
       "      <td>N/A</td>\n",
       "      <td>80</td>\n",
       "      <td>...</td>\n",
       "      <td>None</td>\n",
       "      <td>Y</td>\n",
       "      <td>3</td>\n",
       "      <td>None</td>\n",
       "      <td>{2417B433-0C00-4D6C-A059-45E0CFDA2AF6}</td>\n",
       "      <td>None</td>\n",
       "      <td>None</td>\n",
       "      <td>none</td>\n",
       "      <td>None</td>\n",
       "      <td>POINT (-85.60552 36.17308)</td>\n",
       "    </tr>\n",
       "  </tbody>\n",
       "</table>\n",
       "<p>2 rows × 27 columns</p>\n",
       "</div>"
      ],
      "text/plain": [
       "   objectid      stormdate     surveydate      event_id  damage  \\\n",
       "0   2047717  1583218620000  1583335680000  Mount Juliet       2   \n",
       "1   2047909  1583221860000  1583437860000    Cookeville      27   \n",
       "\n",
       "                             damage_txt              dod_txt efscale  \\\n",
       "0  One- or Two-Family Residences (FR12)  All walls collapsed     EF3   \n",
       "1                  Trees: Hardwood (TH)       Trees uprooted     EF0   \n",
       "\n",
       "  damage_dir windspeed  ...  device_id  qc  dod  surveytype  \\\n",
       "0        N/A       155  ...       None   Y    9        None   \n",
       "1        N/A        80  ...       None   Y    3        None   \n",
       "\n",
       "                                 globalid edit_user edit_time comments  \\\n",
       "0  {FE82BBAC-ABF8-4562-81F6-A527829FBFFE}      None      None     none   \n",
       "1  {2417B433-0C00-4D6C-A059-45E0CFDA2AF6}      None      None     none   \n",
       "\n",
       "  path_guid                    geometry  \n",
       "0      None  POINT (-86.51628 36.18344)  \n",
       "1      None  POINT (-85.60552 36.17308)  \n",
       "\n",
       "[2 rows x 27 columns]"
      ]
     },
     "execution_count": 13,
     "metadata": {},
     "output_type": "execute_result"
    }
   ],
   "source": [
    "print(damage_points.crs)\n",
    "damage_points.head(2)"
   ]
  },
  {
   "cell_type": "code",
   "execution_count": 14,
   "id": "9d6c19bf",
   "metadata": {},
   "outputs": [
    {
     "name": "stdout",
     "output_type": "stream",
     "text": [
      "epsg:4326\n"
     ]
    },
    {
     "data": {
      "text/html": [
       "<div>\n",
       "<style scoped>\n",
       "    .dataframe tbody tr th:only-of-type {\n",
       "        vertical-align: middle;\n",
       "    }\n",
       "\n",
       "    .dataframe tbody tr th {\n",
       "        vertical-align: top;\n",
       "    }\n",
       "\n",
       "    .dataframe thead th {\n",
       "        text-align: right;\n",
       "    }\n",
       "</style>\n",
       "<table border=\"1\" class=\"dataframe\">\n",
       "  <thead>\n",
       "    <tr style=\"text-align: right;\">\n",
       "      <th></th>\n",
       "      <th>efscale</th>\n",
       "      <th>geometry</th>\n",
       "    </tr>\n",
       "  </thead>\n",
       "  <tbody>\n",
       "    <tr>\n",
       "      <th>0</th>\n",
       "      <td>EF3</td>\n",
       "      <td>POLYGON ((-85.59922 36.17660, -85.59840 36.176...</td>\n",
       "    </tr>\n",
       "    <tr>\n",
       "      <th>1</th>\n",
       "      <td>EF1</td>\n",
       "      <td>POLYGON ((-85.52390 36.17189, -85.52430 36.171...</td>\n",
       "    </tr>\n",
       "  </tbody>\n",
       "</table>\n",
       "</div>"
      ],
      "text/plain": [
       "  efscale                                           geometry\n",
       "0     EF3  POLYGON ((-85.59922 36.17660, -85.59840 36.176...\n",
       "1     EF1  POLYGON ((-85.52390 36.17189, -85.52430 36.171..."
      ]
     },
     "execution_count": 14,
     "metadata": {},
     "output_type": "execute_result"
    }
   ],
   "source": [
    "print(path_polygons.crs)\n",
    "path_polygons.head(2)"
   ]
  },
  {
   "cell_type": "code",
   "execution_count": 15,
   "id": "29f85f36",
   "metadata": {},
   "outputs": [
    {
     "name": "stdout",
     "output_type": "stream",
     "text": [
      "epsg:4326\n"
     ]
    },
    {
     "data": {
      "text/html": [
       "<div>\n",
       "<style scoped>\n",
       "    .dataframe tbody tr th:only-of-type {\n",
       "        vertical-align: middle;\n",
       "    }\n",
       "\n",
       "    .dataframe tbody tr th {\n",
       "        vertical-align: top;\n",
       "    }\n",
       "\n",
       "    .dataframe thead th {\n",
       "        text-align: right;\n",
       "    }\n",
       "</style>\n",
       "<table border=\"1\" class=\"dataframe\">\n",
       "  <thead>\n",
       "    <tr style=\"text-align: right;\">\n",
       "      <th></th>\n",
       "      <th>objectid</th>\n",
       "      <th>event_id</th>\n",
       "      <th>stormdate</th>\n",
       "      <th>starttime</th>\n",
       "      <th>endtime</th>\n",
       "      <th>startlat</th>\n",
       "      <th>startlon</th>\n",
       "      <th>endlat</th>\n",
       "      <th>endlon</th>\n",
       "      <th>length</th>\n",
       "      <th>...</th>\n",
       "      <th>propdamage</th>\n",
       "      <th>edit_user</th>\n",
       "      <th>edit_time</th>\n",
       "      <th>created_user</th>\n",
       "      <th>created_date</th>\n",
       "      <th>last_edited_user</th>\n",
       "      <th>last_edited_date</th>\n",
       "      <th>comments</th>\n",
       "      <th>Shape__Length</th>\n",
       "      <th>geometry</th>\n",
       "    </tr>\n",
       "  </thead>\n",
       "  <tbody>\n",
       "    <tr>\n",
       "      <th>0</th>\n",
       "      <td>879879</td>\n",
       "      <td>Nashville</td>\n",
       "      <td>1583217120000</td>\n",
       "      <td>1583217120000</td>\n",
       "      <td>1583220900000</td>\n",
       "      <td>36.1725</td>\n",
       "      <td>-86.9478</td>\n",
       "      <td>36.1532</td>\n",
       "      <td>-85.8860</td>\n",
       "      <td>60.1317</td>\n",
       "      <td>...</td>\n",
       "      <td>-99</td>\n",
       "      <td>None</td>\n",
       "      <td>None</td>\n",
       "      <td>DATians</td>\n",
       "      <td>1583461561000</td>\n",
       "      <td>dat_editor</td>\n",
       "      <td>1618703241000</td>\n",
       "      <td>An historic, long-track, strong EF-3 tornado b...</td>\n",
       "      <td>1.071075</td>\n",
       "      <td>LINESTRING (-86.94783 36.17249, -86.94461 36.1...</td>\n",
       "    </tr>\n",
       "    <tr>\n",
       "      <th>1</th>\n",
       "      <td>879077</td>\n",
       "      <td>Hwy 69 Ballpark Tornado</td>\n",
       "      <td>1583237040000</td>\n",
       "      <td>1583237040000</td>\n",
       "      <td>1583237520000</td>\n",
       "      <td>32.6846</td>\n",
       "      <td>-87.6226</td>\n",
       "      <td>32.6863</td>\n",
       "      <td>-87.5492</td>\n",
       "      <td>4.3400</td>\n",
       "      <td>...</td>\n",
       "      <td>-99</td>\n",
       "      <td>None</td>\n",
       "      <td>None</td>\n",
       "      <td>DATians</td>\n",
       "      <td>1583353305000</td>\n",
       "      <td>DATians</td>\n",
       "      <td>1583358165000</td>\n",
       "      <td>None</td>\n",
       "      <td>0.074159</td>\n",
       "      <td>LINESTRING (-87.62263 32.68464, -87.62182 32.6...</td>\n",
       "    </tr>\n",
       "  </tbody>\n",
       "</table>\n",
       "<p>2 rows × 29 columns</p>\n",
       "</div>"
      ],
      "text/plain": [
       "   objectid                 event_id      stormdate      starttime  \\\n",
       "0    879879                Nashville  1583217120000  1583217120000   \n",
       "1    879077  Hwy 69 Ballpark Tornado  1583237040000  1583237040000   \n",
       "\n",
       "         endtime  startlat  startlon   endlat   endlon   length  ...  \\\n",
       "0  1583220900000   36.1725  -86.9478  36.1532 -85.8860  60.1317  ...   \n",
       "1  1583237520000   32.6846  -87.6226  32.6863 -87.5492   4.3400  ...   \n",
       "\n",
       "   propdamage  edit_user  edit_time created_user   created_date  \\\n",
       "0         -99       None       None      DATians  1583461561000   \n",
       "1         -99       None       None      DATians  1583353305000   \n",
       "\n",
       "  last_edited_user  last_edited_date  \\\n",
       "0       dat_editor     1618703241000   \n",
       "1          DATians     1583358165000   \n",
       "\n",
       "                                            comments  Shape__Length  \\\n",
       "0  An historic, long-track, strong EF-3 tornado b...       1.071075   \n",
       "1                                               None       0.074159   \n",
       "\n",
       "                                            geometry  \n",
       "0  LINESTRING (-86.94783 36.17249, -86.94461 36.1...  \n",
       "1  LINESTRING (-87.62263 32.68464, -87.62182 32.6...  \n",
       "\n",
       "[2 rows x 29 columns]"
      ]
     },
     "execution_count": 15,
     "metadata": {},
     "output_type": "execute_result"
    }
   ],
   "source": [
    "print(tornado_paths.crs)\n",
    "tornado_paths.head(2)"
   ]
  },
  {
   "cell_type": "code",
   "execution_count": 16,
   "id": "8e7f06f5",
   "metadata": {},
   "outputs": [
    {
     "data": {
      "image/svg+xml": [
       "<svg xmlns=\"http://www.w3.org/2000/svg\" xmlns:xlink=\"http://www.w3.org/1999/xlink\" width=\"100.0\" height=\"100.0\" viewBox=\"-85.60077037112002 36.17336819287998 0.03792857724002374 0.005729152240036228\" preserveAspectRatio=\"xMinYMin meet\"><g transform=\"matrix(1,0,0,-1,0,72.35246553799999)\"><path fill-rule=\"evenodd\" fill=\"#66cc99\" stroke=\"#555555\" stroke-width=\"0.0007585715448004748\" opacity=\"0.6\" d=\"M -85.59922041599998,36.176601388999984 L -85.59840165700001,36.17614306799999 L -85.59562115400001,36.17617845400002 L -85.59215842999998,36.176415206 L -85.59041955100002,36.17671505599998 L -85.589666083,36.17666127799998 L -85.58923530099997,36.17649623 L -85.58804389199997,36.176469285999985 L -85.58644988200001,36.17638596299997 L -85.58590834400002,36.176189264000016 L -85.58560766800002,36.17603521799998 L -85.58513594200002,36.17608747899999 L -85.58479907700001,36.17623351999998 L -85.58451627800002,36.17636030699998 L -85.58420566799998,36.176302567 L -85.58404373500002,36.176059807 L -85.58367353800003,36.175822133999986 L -85.583260736,36.17567581100002 L -85.58276829800002,36.175862414 L -85.582469484,36.176022226999976 L -85.58159523299997,36.17626416799999 L -85.581028833,36.17635243400002 L -85.58050682800001,36.176257658 L -85.57996215499998,36.176099954999984 L -85.579476139,36.17595294400002 L -85.578305462,36.175898311000026 L -85.577550626,36.175834596000016 L -85.57677630799998,36.17572213400001 L -85.57603245299998,36.175704731 L -85.57519355800002,36.175804604 L -85.57446671000002,36.176099089 L -85.573863286,36.176120716000014 L -85.57278496599997,36.17603846600002 L -85.57202521800002,36.17585440800002 L -85.57168793599999,36.17553618199997 L -85.57114519700002,36.175312072 L -85.56986333499998,36.175246062999975 L -85.56864556900001,36.17531939999998 L -85.56815748499997,36.175230880000015 L -85.56761540999997,36.17497019899997 L -85.56654144499998,36.17484286400003 L -85.565357258,36.17477295499998 L -85.56438388499998,36.17498881900002 L -85.564246556,36.17517805099999 L -85.56438924899999,36.17536988 L -85.56491710799997,36.175619734 L -85.571333891,36.17625681499999 L -85.573913237,36.176290699 L -85.574667181,36.176456369 L -85.57527875,36.176692323 L -85.57564889499997,36.177188124 L -85.57614209600001,36.17747971799997 L -85.57645597099997,36.17759407300002 L -85.57672348099999,36.17749710800001 L -85.577190896,36.17723034300002 L -85.57815945099998,36.17693051499998 L -85.57890241500002,36.17682655700003 L -85.579878738,36.17689508199999 L -85.58061446800002,36.17714006 L -85.58093633300001,36.17748647000002 L -85.581188322,36.17764053600001 L -85.58142985900002,36.17769258300001 L -85.58230303900001,36.17753251 L -85.58265867,36.17731969099998 L -85.58420514099998,36.17718249500001 L -85.58533515599999,36.17712100699998 L -85.58561744399998,36.17705292599999 L -85.585890124,36.17691313400002 L -85.586354224,36.17694128900001 L -85.586801568,36.177144312999985 L -85.58745338300002,36.17730641100002 L -85.58803613999999,36.17730850200002 L -85.588457049,36.17718809500002 L -85.588968744,36.177157056 L -85.58929411000003,36.17730045000002 L -85.58973129700001,36.177477377 L -85.59006195799998,36.177382981 L -85.590608186,36.17712962799999 L -85.59113391800003,36.17698265500002 L -85.596106641,36.17662228900002 L -85.59777228399997,36.176630842 L -85.59860747599998,36.17681589199998 L -85.59936560900002,36.17702933200002 L -85.59922041599998,36.176601388999984 z\" /></g></svg>"
      ],
      "text/plain": [
       "<shapely.geometry.polygon.Polygon at 0x19c1fa4e310>"
      ]
     },
     "execution_count": 16,
     "metadata": {},
     "output_type": "execute_result"
    }
   ],
   "source": [
    "path_polygons.loc[0, 'geometry']"
   ]
  },
  {
   "cell_type": "code",
   "execution_count": 17,
   "id": "8bb2b82f",
   "metadata": {},
   "outputs": [
    {
     "data": {
      "image/png": "[encoded data removed]",
      "text/plain": [
       "<Figure size 432x288 with 1 Axes>"
      ]
     },
     "metadata": {
      "needs_background": "light"
     },
     "output_type": "display_data"
    }
   ],
   "source": [
    "path_polygons.plot();"
   ]
  },
  {
   "cell_type": "code",
   "execution_count": 18,
   "id": "ffc110b1",
   "metadata": {},
   "outputs": [
    {
     "data": {
      "image/png": "[encoded data removed]",
      "text/plain": [
       "<Figure size 720x720 with 1 Axes>"
      ]
     },
     "metadata": {
      "needs_background": "light"
     },
     "output_type": "display_data"
    }
   ],
   "source": [
    "leg_kwds = {'title': 'path_polygons', 'loc': 'upper left', 'bbox_to_anchor': (1, 1.03), 'ncol': 2}\n",
    "\n",
    "path_polygons.plot(column = 'efscale', figsize = (10, 10),\n",
    "         edgecolor = 'black',\n",
    "         legend = False,\n",
    "         cmap = 'tab20')\n",
    "plt.show()"
   ]
  },
  {
   "cell_type": "code",
   "execution_count": 19,
   "id": "7092ba14",
   "metadata": {},
   "outputs": [
    {
     "data": {
      "image/svg+xml": [
       "<svg xmlns=\"http://www.w3.org/2000/svg\" xmlns:xlink=\"http://www.w3.org/1999/xlink\" width=\"100.0\" height=\"100.0\" viewBox=\"-86.99030804235997 36.11072385364002 1.1467774627199674 0.1288186807199807\" preserveAspectRatio=\"xMinYMin meet\"><g transform=\"matrix(1,0,0,-1,0,72.35026638800002)\"><polyline fill=\"none\" stroke=\"#66cc99\" stroke-width=\"0.02293554925439935\" points=\"-86.94783480299998,36.17249269500002 -86.944612484,36.173461063 -86.94283690399999,36.173986974 -86.94157090200002,36.174290095 -86.940337086,36.174454646000015 -86.936571264,36.174298755 -86.935004854,36.174160186 -86.9333848,36.173995634 -86.93153944,36.173917689 -86.929350758,36.174125544 -86.92814912799997,36.17435938 -86.92659344700002,36.17467982 -86.92331042299998,36.175493906999975 -86.92152943600001,36.17564979500003 -86.915129643,36.17562620299998 -86.91077373500002,36.17543567299998 -86.90878357899999,36.175398642 -86.90451350199999,36.175831663999986 -86.900951528,36.17655913599998 -86.896917486,36.17736454300001 -86.89365592000001,36.177936117 -86.89146723699997,36.17807468 -86.88756033700002,36.17807048100002 -86.88255157499998,36.178282524 -86.87721583500002,36.177860754 -86.82430650600003,36.175814050999975 -86.81313017100001,36.17516009600001 -86.80476169399998,36.174709604999975 -86.799255937,36.174593816000026 -86.793085942,36.17469693800001 -86.79076539300002,36.174680675 -86.78844409599998,36.17468064000002 -86.78294702300002,36.17520804499998 -86.76872350399998,36.175662362000025 -86.76275583199998,36.175770994 -86.76078698499998,36.175965184 -86.75911873000001,36.17617772099999 -86.75617875699999,36.176593707999984 -86.75506052499998,36.176728185 -86.753636131,36.176792835000015 -86.75220322899997,36.176690211 -86.750531282,36.17635596100001 -86.74865007300002,36.17589000200002 -86.74660457700003,36.17539005499998 -86.74433677500002,36.17509184 -86.740254043,36.17480164400001 -86.73871218099998,36.174722772 -86.737453619,36.174796641 -86.736030303,36.17504348699998 -86.73433466199998,36.175329122 -86.73287899899998,36.175633576 -86.731190308,36.175919212999986 -86.72987861799999,36.17602238 -86.728789393,36.175897926 -86.72761541400001,36.175668022000025 -86.72634728000003,36.175424664 -86.724973132,36.175334609 -86.718594785,36.17514412999998 -86.71607362499998,36.175224991 -86.70121389600001,36.176773126 -86.69649319899997,36.177413933000025 -86.69189686200002,36.178368292000016 -86.67722077500002,36.178807469 -86.6734439,36.179130208 -86.659582662,36.18167377399999 -86.65007653700002,36.183511649000025 -86.645901988,36.183919601000014 -86.64333163200001,36.18441054200002 -86.64121225600002,36.184825581999974 -86.63909868600001,36.185239481999986 -86.63723738599998,36.185502679000024 -86.63510426900001,36.185603512 -86.63298515100001,36.18547171300003 -86.63056426100002,36.185078765000014 -86.62734047700002,36.184281621000025 -86.62324983399998,36.183303576000014 -86.61404982,36.18221698399998 -86.610710133,36.18166511499999 -86.60010963500002,36.180156641999986 -86.59477089799998,36.179302595000024 -86.58615556,36.178280449 -86.56952175200001,36.176479497 -86.56726817700002,36.176516214 -86.55352761400002,36.177101828 -86.54571309599999,36.17745187600002 -86.54240567,36.178024407 -86.54038959000002,36.17826263799998 -86.53908879099998,36.17868040500002 -86.537782215,36.17965733699998 -86.536873205,36.18038862499998 -86.53602815599999,36.180616989999976 -86.53357683299998,36.18065710899998 -86.52996356900002,36.18083941200001 -86.52705786400003,36.18157264000001 -86.52400211600002,36.18273003500002 -86.52100775500003,36.18334423800002 -86.51858839099998,36.183635545000016 -86.51292913600003,36.184010129 -86.50988728099998,36.18420279100002 -86.50176631099998,36.18449594200001 -86.47004438,36.185798223 -86.45387754299998,36.187020820999976 -86.43218729699998,36.18662217999997 -86.41870130299998,36.18745814800002 -86.41294383600001,36.188205951999976 -86.40373859599998,36.188734179 -86.39707841500001,36.18853951099999 -86.38168858,36.18904426900002 -86.376131074,36.18880164199999 -86.363757927,36.188550237000015 -86.353015455,36.18894346899998 -86.34576285999998,36.189234235000015 -86.330495757,36.190351034 -86.322568746,36.192113216999985 -86.304565035,36.193259204000015 -86.30164229600001,36.193290661 -86.298893798,36.1930084 -86.29675863900002,36.192579996 -86.29544383299998,36.192374062 -86.29414679899998,36.19239724900001 -86.291244016,36.192683785999975 -86.28837978000001,36.193134176 -86.27453207899998,36.194558597000025 -86.267241227,36.19522062200002 -86.254923943,36.196220837 -86.24969660900001,36.196695384 -86.24398047800003,36.197069295 -86.24056785699997,36.197053324000024 -86.237442849,36.196939180000015 -86.231180554,36.19650571699998 -86.17692611400003,36.192663358 -86.13886421400002,36.19150306900002 -86.12113836200001,36.191653121 -86.09939053800002,36.19202079399997 -86.09718572700001,36.191981941 -86.096225157,36.19192303900002 -86.09493624999999,36.191724412999974 -86.09350575899998,36.191456921999986 -86.09081234500002,36.19078950699998 -86.08619907399998,36.18979390499999 -86.077562603,36.188035806000016 -86.06922872500002,36.186371125 -86.06098545499998,36.18439365199998 -86.02558458200002,36.177801756 -86.00223476600002,36.17236115100002 -85.99598728799998,36.17119020400003 -85.98521554000001,36.170064981999985 -85.981492302,36.16992540000001 -85.97893569399997,36.16999820299998 -85.97608522299998,36.16982205900001 -85.97321978000002,36.169455073999984 -85.97044256100003,36.168712836 -85.96652203899998,36.167230314 -85.963148273,36.166291247 -85.959438594,36.165692364 -85.9568698,36.165667245 -85.954950182,36.166106389 -85.952842176,36.166456959000016 -85.95075094100002,36.16639992400002 -85.94881514399998,36.165993241000024 -85.94652004599999,36.165316940000025 -85.94366928300002,36.164715909 -85.93881766499999,36.163846127 -85.93740854700002,36.16378047500001 -85.93621277699998,36.163819183999976 -85.93500561500002,36.163819390000015 -85.93372999899998,36.163746187000015 -85.93102497799998,36.16323015900002 -85.92164262799997,36.160960607 -85.911600277,36.158236376 -85.903922873,36.155967808000014 -85.899829969,36.155045418999975 -85.89593540200002,36.154378387 -85.893192139,36.15396808899999 -85.89048847200002,36.153638899999976 -85.886003819,36.15319709300002\" opacity=\"0.8\" /></g></svg>"
      ],
      "text/plain": [
       "<shapely.geometry.linestring.LineString at 0x19c1fa4e070>"
      ]
     },
     "execution_count": 19,
     "metadata": {},
     "output_type": "execute_result"
    }
   ],
   "source": [
    "tornado_paths.loc[0, 'geometry']"
   ]
  },
  {
   "cell_type": "code",
   "execution_count": 20,
   "id": "37a83d99",
   "metadata": {},
   "outputs": [
    {
     "data": {
      "image/png": "[encoded data removed]",
      "text/plain": [
       "<Figure size 432x288 with 1 Axes>"
      ]
     },
     "metadata": {
      "needs_background": "light"
     },
     "output_type": "display_data"
    }
   ],
   "source": [
    "tornado_paths.plot();"
   ]
  },
  {
   "cell_type": "code",
   "execution_count": 21,
   "id": "856769ec",
   "metadata": {},
   "outputs": [],
   "source": [
    "area_center = (36.17000, -86.78000)"
   ]
  },
  {
   "cell_type": "code",
   "execution_count": 22,
   "id": "f31057ac",
   "metadata": {},
   "outputs": [
    {
     "data": {
      "text/plain": [
       "{'T': 'green', 'D': 'magenta', 'P': 'yellow'}"
      ]
     },
     "execution_count": 22,
     "metadata": {},
     "output_type": "execute_result"
    }
   ],
   "source": [
    "stormPalette = {'T': 'green',\n",
    "               'D': 'magenta',\n",
    "               'P': 'yellow'}\n",
    "\n",
    "stormPalette"
   ]
  },
  {
   "cell_type": "code",
   "execution_count": 37,
   "id": "31301081",
   "metadata": {},
   "outputs": [
    {
     "data": {
      "text/html": [
       "<div style=\"width:100%;\"><div style=\"position:relative;width:100%;height:0;padding-bottom:60%;\"><span style=\"color:#565656\">Make this Notebook Trusted to load map: File -> Trust Notebook</span><iframe src=\"about:blank\" style=\"position:absolute;width:100%;height:100%;left:0;top:0;border:none !important;\" data-html=%3C%21DOCTYPE%20html%3E%0A%3Chead%3E%20%20%20%20%0A%20%20%20%20%3Cmeta%20http-equiv%3D%22content-type%22%20content%3D%22text/html%3B%20charset%3DUTF-8%22%20/%3E%0A%20%20%20%20%0A%20%20%20%20%20%20%20%20%3Cscript%3E%0A%20%20%20%20%20%20%20%20%20%20%20%20L_NO_TOUCH%20%3D%20false%3B%0A%20%20%20%20%20%20%20%20%20%20%20%20L_DISABLE_3D%20%3D%20false%3B%0A%20%20%20%20%20%20%20%20%3C/script%3E%0A%20%20%20%20%0A%20%20%20%20%3Cscript%20src%3D%22https%3A//cdn.jsdelivr.net/npm/leaflet%401.6.0/dist/leaflet.js%22%3E%3C/script%3E%0A%20%20%20%20%3Cscript%20src%3D%22https%3A//code.jquery.com/jquery-1.12.4.min.js%22%3E%3C/script%3E%0A%20%20%20%20%3Cscript%20src%3D%22https%3A//maxcdn.bootstrapcdn.com/bootstrap/3.2.0/js/bootstrap.min.js%22%3E%3C/script%3E%0A%20%20%20%20%3Cscript%20src%3D%22https%3A//cdnjs.cloudflare.com/ajax/libs/Leaflet.awesome-markers/2.0.2/leaflet.awesome-markers.js%22%3E%3C/script%3E%0A%20%20%20%20%3Clink%20rel%3D%22stylesheet%22%20href%3D%22https%3A//cdn.jsdelivr.net/npm/leaflet%401.6.0/dist/leaflet.css%22/%3E%0A%20%20%20%20%3Clink%20rel%3D%22stylesheet%22%20href%3D%22https%3A//maxcdn.bootstrapcdn.com/bootstrap/3.2.0/css/bootstrap.min.css%22/%3E%0A%20%20%20%20%3Clink%20rel%3D%22stylesheet%22%20href%3D%22https%3A//maxcdn.bootstrapcdn.com/bootstrap/3.2.0/css/bootstrap-theme.min.css%22/%3E%0A%20%20%20%20%3Clink%20rel%3D%22stylesheet%22%20href%3D%22https%3A//maxcdn.bootstrapcdn.com/font-awesome/4.6.3/css/font-awesome.min.css%22/%3E%0A%20%20%20%20%3Clink%20rel%3D%22stylesheet%22%20href%3D%22https%3A//cdnjs.cloudflare.com/ajax/libs/Leaflet.awesome-markers/2.0.2/leaflet.awesome-markers.css%22/%3E%0A%20%20%20%20%3Clink%20rel%3D%22stylesheet%22%20href%3D%22https%3A//rawcdn.githack.com/python-visualization/folium/master/folium/templates/leaflet.awesome.rotate.css%22/%3E%0A%20%20%20%20%3Cstyle%3Ehtml%2C%20body%20%7Bwidth%3A%20100%25%3Bheight%3A%20100%25%3Bmargin%3A%200%3Bpadding%3A%200%3B%7D%3C/style%3E%0A%20%20%20%20%3Cstyle%3E%23map%20%7Bposition%3Aabsolute%3Btop%3A0%3Bbottom%3A0%3Bright%3A0%3Bleft%3A0%3B%7D%3C/style%3E%0A%20%20%20%20%0A%20%20%20%20%20%20%20%20%20%20%20%20%3Cmeta%20name%3D%22viewport%22%20content%3D%22width%3Ddevice-width%2C%0A%20%20%20%20%20%20%20%20%20%20%20%20%20%20%20%20initial-scale%3D1.0%2C%20maximum-scale%3D1.0%2C%20user-scalable%3Dno%22%20/%3E%0A%20%20%20%20%20%20%20%20%20%20%20%20%3Cstyle%3E%0A%20%20%20%20%20%20%20%20%20%20%20%20%20%20%20%20%23map_43022e1827c54d1ba86a8a15ebdf8c92%20%7B%0A%20%20%20%20%20%20%20%20%20%20%20%20%20%20%20%20%20%20%20%20position%3A%20relative%3B%0A%20%20%20%20%20%20%20%20%20%20%20%20%20%20%20%20%20%20%20%20width%3A%20100.0%25%3B%0A%20%20%20%20%20%20%20%20%20%20%20%20%20%20%20%20%20%20%20%20height%3A%20100.0%25%3B%0A%20%20%20%20%20%20%20%20%20%20%20%20%20%20%20%20%20%20%20%20left%3A%200.0%25%3B%0A%20%20%20%20%20%20%20%20%20%20%20%20%20%20%20%20%20%20%20%20top%3A%200.0%25%3B%0A%20%20%20%20%20%20%20%20%20%20%20%20%20%20%20%20%7D%0A%20%20%20%20%20%20%20%20%20%20%20%20%3C/style%3E%0A%20%20%20%20%20%20%20%20%0A%3C/head%3E%0A%3Cbody%3E%20%20%20%20%0A%20%20%20%20%0A%20%20%20%20%20%20%20%20%20%20%20%20%3Cdiv%20class%3D%22folium-map%22%20id%3D%22map_43022e1827c54d1ba86a8a15ebdf8c92%22%20%3E%3C/div%3E%0A%20%20%20%20%20%20%20%20%0A%3C/body%3E%0A%3Cscript%3E%20%20%20%20%0A%20%20%20%20%0A%20%20%20%20%20%20%20%20%20%20%20%20var%20map_43022e1827c54d1ba86a8a15ebdf8c92%20%3D%20L.map%28%0A%20%20%20%20%20%20%20%20%20%20%20%20%20%20%20%20%22map_43022e1827c54d1ba86a8a15ebdf8c92%22%2C%0A%20%20%20%20%20%20%20%20%20%20%20%20%20%20%20%20%7B%0A%20%20%20%20%20%20%20%20%20%20%20%20%20%20%20%20%20%20%20%20center%3A%20%5B36.17%2C%20-86.78%5D%2C%0A%20%20%20%20%20%20%20%20%20%20%20%20%20%20%20%20%20%20%20%20crs%3A%20L.CRS.EPSG3857%2C%0A%20%20%20%20%20%20%20%20%20%20%20%20%20%20%20%20%20%20%20%20zoom%3A%2012%2C%0A%20%20%20%20%20%20%20%20%20%20%20%20%20%20%20%20%20%20%20%20zoomControl%3A%20true%2C%0A%20%20%20%20%20%20%20%20%20%20%20%20%20%20%20%20%20%20%20%20preferCanvas%3A%20false%2C%0A%20%20%20%20%20%20%20%20%20%20%20%20%20%20%20%20%7D%0A%20%20%20%20%20%20%20%20%20%20%20%20%29%3B%0A%0A%20%20%20%20%20%20%20%20%20%20%20%20%0A%0A%20%20%20%20%20%20%20%20%0A%20%20%20%20%0A%20%20%20%20%20%20%20%20%20%20%20%20var%20tile_layer_a15795d7393149e480d69a6d34e060f7%20%3D%20L.tileLayer%28%0A%20%20%20%20%20%20%20%20%20%20%20%20%20%20%20%20%22https%3A//%7Bs%7D.tile.openstreetmap.org/%7Bz%7D/%7Bx%7D/%7By%7D.png%22%2C%0A%20%20%20%20%20%20%20%20%20%20%20%20%20%20%20%20%7B%22attribution%22%3A%20%22Data%20by%20%5Cu0026copy%3B%20%5Cu003ca%20href%3D%5C%22http%3A//openstreetmap.org%5C%22%5Cu003eOpenStreetMap%5Cu003c/a%5Cu003e%2C%20under%20%5Cu003ca%20href%3D%5C%22http%3A//www.openstreetmap.org/copyright%5C%22%5Cu003eODbL%5Cu003c/a%5Cu003e.%22%2C%20%22detectRetina%22%3A%20false%2C%20%22maxNativeZoom%22%3A%2018%2C%20%22maxZoom%22%3A%2018%2C%20%22minZoom%22%3A%200%2C%20%22noWrap%22%3A%20false%2C%20%22opacity%22%3A%201%2C%20%22subdomains%22%3A%20%22abc%22%2C%20%22tms%22%3A%20false%7D%0A%20%20%20%20%20%20%20%20%20%20%20%20%29.addTo%28map_43022e1827c54d1ba86a8a15ebdf8c92%29%3B%0A%20%20%20%20%20%20%20%20%0A%20%20%20%20%0A%20%20%20%20%20%20%20%20function%20geo_json_20559e3328aa4020bdd1b38220ea2d4e_styler%28feature%29%20%7B%0A%20%20%20%20%20%20%20%20%20%20%20%20switch%28feature.id%29%20%7B%0A%20%20%20%20%20%20%20%20%20%20%20%20%20%20%20%20default%3A%0A%20%20%20%20%20%20%20%20%20%20%20%20%20%20%20%20%20%20%20%20return%20%7B%22color%22%3A%20%22%2300FF00%22%2C%20%22fillColor%22%3A%20%22%2300FF00%22%7D%3B%0A%20%20%20%20%20%20%20%20%20%20%20%20%7D%0A%20%20%20%20%20%20%20%20%7D%0A%20%20%20%20%20%20%20%20function%20geo_json_20559e3328aa4020bdd1b38220ea2d4e_onEachFeature%28feature%2C%20layer%29%20%7B%0A%20%20%20%20%20%20%20%20%20%20%20%20layer.on%28%7B%0A%20%20%20%20%20%20%20%20%20%20%20%20%20%20%20%20click%3A%20function%28e%29%20%7B%0A%20%20%20%20%20%20%20%20%20%20%20%20%20%20%20%20%20%20%20%20map_43022e1827c54d1ba86a8a15ebdf8c92.fitBounds%28e.target.getBounds%28%29%29%3B%0A%20%20%20%20%20%20%20%20%20%20%20%20%20%20%20%20%7D%0A%20%20%20%20%20%20%20%20%20%20%20%20%7D%29%3B%0A%20%20%20%20%20%20%20%20%7D%3B%0A%20%20%20%20%20%20%20%20var%20geo_json_20559e3328aa4020bdd1b38220ea2d4e%20%3D%20L.geoJson%28null%2C%20%7B%0A%20%20%20%20%20%20%20%20%20%20%20%20%20%20%20%20onEachFeature%3A%20geo_json_20559e3328aa4020bdd1b38220ea2d4e_onEachFeature%2C%0A%20%20%20%20%20%20%20%20%20%20%20%20%0A%20%20%20%20%20%20%20%20%20%20%20%20%20%20%20%20style%3A%20geo_json_20559e3328aa4020bdd1b38220ea2d4e_styler%2C%0A%20%20%20%20%20%20%20%20%7D%29.addTo%28map_43022e1827c54d1ba86a8a15ebdf8c92%29%3B%0A%0A%20%20%20%20%20%20%20%20function%20geo_json_20559e3328aa4020bdd1b38220ea2d4e_add%20%28data%29%20%7B%0A%20%20%20%20%20%20%20%20%20%20%20%20geo_json_20559e3328aa4020bdd1b38220ea2d4e.addData%28data%29%3B%0A%20%20%20%20%20%20%20%20%7D%0A%20%20%20%20%20%20%20%20%20%20%20%20geo_json_20559e3328aa4020bdd1b38220ea2d4e_add%28%7B%22bbox%22%3A%20%5B-87.62262896599998%2C%2032.684637545999976%2C%20-84.86191663599999%2C%2036.197069295%5D%2C%20%22features%22%3A%20%5B%7B%22bbox%22%3A%20%5B-86.94783480299998%2C%2036.15319709300002%2C%20-85.886003819%2C%2036.197069295%5D%2C%20%22geometry%22%3A%20%7B%22coordinates%22%3A%20%5B%5B-86.94783480299998%2C%2036.17249269500002%5D%2C%20%5B-86.944612484%2C%2036.173461063%5D%2C%20%5B-86.94283690399999%2C%2036.173986974%5D%2C%20%5B-86.94157090200002%2C%2036.174290095%5D%2C%20%5B-86.940337086%2C%2036.174454646000015%5D%2C%20%5B-86.936571264%2C%2036.174298755%5D%2C%20%5B-86.935004854%2C%2036.174160186%5D%2C%20%5B-86.9333848%2C%2036.173995634%5D%2C%20%5B-86.93153944%2C%2036.173917689%5D%2C%20%5B-86.929350758%2C%2036.174125544%5D%2C%20%5B-86.92814912799997%2C%2036.17435938%5D%2C%20%5B-86.92659344700002%2C%2036.17467982%5D%2C%20%5B-86.92331042299998%2C%2036.175493906999975%5D%2C%20%5B-86.92152943600001%2C%2036.17564979500003%5D%2C%20%5B-86.915129643%2C%2036.17562620299998%5D%2C%20%5B-86.91077373500002%2C%2036.17543567299998%5D%2C%20%5B-86.90878357899999%2C%2036.175398642%5D%2C%20%5B-86.90451350199999%2C%2036.175831663999986%5D%2C%20%5B-86.900951528%2C%2036.17655913599998%5D%2C%20%5B-86.896917486%2C%2036.17736454300001%5D%2C%20%5B-86.89365592000001%2C%2036.177936117%5D%2C%20%5B-86.89146723699997%2C%2036.17807468%5D%2C%20%5B-86.88756033700002%2C%2036.17807048100002%5D%2C%20%5B-86.88255157499998%2C%2036.178282524%5D%2C%20%5B-86.87721583500002%2C%2036.177860754%5D%2C%20%5B-86.82430650600003%2C%2036.175814050999975%5D%2C%20%5B-86.81313017100001%2C%2036.17516009600001%5D%2C%20%5B-86.80476169399998%2C%2036.174709604999975%5D%2C%20%5B-86.799255937%2C%2036.174593816000026%5D%2C%20%5B-86.793085942%2C%2036.17469693800001%5D%2C%20%5B-86.79076539300002%2C%2036.174680675%5D%2C%20%5B-86.78844409599998%2C%2036.17468064000002%5D%2C%20%5B-86.78294702300002%2C%2036.17520804499998%5D%2C%20%5B-86.76872350399998%2C%2036.175662362000025%5D%2C%20%5B-86.76275583199998%2C%2036.175770994%5D%2C%20%5B-86.76078698499998%2C%2036.175965184%5D%2C%20%5B-86.75911873000001%2C%2036.17617772099999%5D%2C%20%5B-86.75617875699999%2C%2036.176593707999984%5D%2C%20%5B-86.75506052499998%2C%2036.176728185%5D%2C%20%5B-86.753636131%2C%2036.176792835000015%5D%2C%20%5B-86.75220322899997%2C%2036.176690211%5D%2C%20%5B-86.750531282%2C%2036.17635596100001%5D%2C%20%5B-86.74865007300002%2C%2036.17589000200002%5D%2C%20%5B-86.74660457700003%2C%2036.17539005499998%5D%2C%20%5B-86.74433677500002%2C%2036.17509184%5D%2C%20%5B-86.740254043%2C%2036.17480164400001%5D%2C%20%5B-86.73871218099998%2C%2036.174722772%5D%2C%20%5B-86.737453619%2C%2036.174796641%5D%2C%20%5B-86.736030303%2C%2036.17504348699998%5D%2C%20%5B-86.73433466199998%2C%2036.175329122%5D%2C%20%5B-86.73287899899998%2C%2036.175633576%5D%2C%20%5B-86.731190308%2C%2036.175919212999986%5D%2C%20%5B-86.72987861799999%2C%2036.17602238%5D%2C%20%5B-86.728789393%2C%2036.175897926%5D%2C%20%5B-86.72761541400001%2C%2036.175668022000025%5D%2C%20%5B-86.72634728000003%2C%2036.175424664%5D%2C%20%5B-86.724973132%2C%2036.175334609%5D%2C%20%5B-86.718594785%2C%2036.17514412999998%5D%2C%20%5B-86.71607362499998%2C%2036.175224991%5D%2C%20%5B-86.70121389600001%2C%2036.176773126%5D%2C%20%5B-86.69649319899997%2C%2036.177413933000025%5D%2C%20%5B-86.69189686200002%2C%2036.178368292000016%5D%2C%20%5B-86.67722077500002%2C%2036.178807469%5D%2C%20%5B-86.6734439%2C%2036.179130208%5D%2C%20%5B-86.659582662%2C%2036.18167377399999%5D%2C%20%5B-86.65007653700002%2C%2036.183511649000025%5D%2C%20%5B-86.645901988%2C%2036.183919601000014%5D%2C%20%5B-86.64333163200001%2C%2036.18441054200002%5D%2C%20%5B-86.64121225600002%2C%2036.184825581999974%5D%2C%20%5B-86.63909868600001%2C%2036.185239481999986%5D%2C%20%5B-86.63723738599998%2C%2036.185502679000024%5D%2C%20%5B-86.63510426900001%2C%2036.185603512%5D%2C%20%5B-86.63298515100001%2C%2036.18547171300003%5D%2C%20%5B-86.63056426100002%2C%2036.185078765000014%5D%2C%20%5B-86.62734047700002%2C%2036.184281621000025%5D%2C%20%5B-86.62324983399998%2C%2036.183303576000014%5D%2C%20%5B-86.61404982%2C%2036.18221698399998%5D%2C%20%5B-86.610710133%2C%2036.18166511499999%5D%2C%20%5B-86.60010963500002%2C%2036.180156641999986%5D%2C%20%5B-86.59477089799998%2C%2036.179302595000024%5D%2C%20%5B-86.58615556%2C%2036.178280449%5D%2C%20%5B-86.56952175200001%2C%2036.176479497%5D%2C%20%5B-86.56726817700002%2C%2036.176516214%5D%2C%20%5B-86.55352761400002%2C%2036.177101828%5D%2C%20%5B-86.54571309599999%2C%2036.17745187600002%5D%2C%20%5B-86.54240567%2C%2036.178024407%5D%2C%20%5B-86.54038959000002%2C%2036.17826263799998%5D%2C%20%5B-86.53908879099998%2C%2036.17868040500002%5D%2C%20%5B-86.537782215%2C%2036.17965733699998%5D%2C%20%5B-86.536873205%2C%2036.18038862499998%5D%2C%20%5B-86.53602815599999%2C%2036.180616989999976%5D%2C%20%5B-86.53357683299998%2C%2036.18065710899998%5D%2C%20%5B-86.52996356900002%2C%2036.18083941200001%5D%2C%20%5B-86.52705786400003%2C%2036.18157264000001%5D%2C%20%5B-86.52400211600002%2C%2036.18273003500002%5D%2C%20%5B-86.52100775500003%2C%2036.18334423800002%5D%2C%20%5B-86.51858839099998%2C%2036.183635545000016%5D%2C%20%5B-86.51292913600003%2C%2036.184010129%5D%2C%20%5B-86.50988728099998%2C%2036.18420279100002%5D%2C%20%5B-86.50176631099998%2C%2036.18449594200001%5D%2C%20%5B-86.47004438%2C%2036.185798223%5D%2C%20%5B-86.45387754299998%2C%2036.187020820999976%5D%2C%20%5B-86.43218729699998%2C%2036.18662217999997%5D%2C%20%5B-86.41870130299998%2C%2036.18745814800002%5D%2C%20%5B-86.41294383600001%2C%2036.188205951999976%5D%2C%20%5B-86.40373859599998%2C%2036.188734179%5D%2C%20%5B-86.39707841500001%2C%2036.18853951099999%5D%2C%20%5B-86.38168858%2C%2036.18904426900002%5D%2C%20%5B-86.376131074%2C%2036.18880164199999%5D%2C%20%5B-86.363757927%2C%2036.188550237000015%5D%2C%20%5B-86.353015455%2C%2036.18894346899998%5D%2C%20%5B-86.34576285999998%2C%2036.189234235000015%5D%2C%20%5B-86.330495757%2C%2036.190351034%5D%2C%20%5B-86.322568746%2C%2036.192113216999985%5D%2C%20%5B-86.304565035%2C%2036.193259204000015%5D%2C%20%5B-86.30164229600001%2C%2036.193290661%5D%2C%20%5B-86.298893798%2C%2036.1930084%5D%2C%20%5B-86.29675863900002%2C%2036.192579996%5D%2C%20%5B-86.29544383299998%2C%2036.192374062%5D%2C%20%5B-86.29414679899998%2C%2036.19239724900001%5D%2C%20%5B-86.291244016%2C%2036.192683785999975%5D%2C%20%5B-86.28837978000001%2C%2036.193134176%5D%2C%20%5B-86.27453207899998%2C%2036.194558597000025%5D%2C%20%5B-86.267241227%2C%2036.19522062200002%5D%2C%20%5B-86.254923943%2C%2036.196220837%5D%2C%20%5B-86.24969660900001%2C%2036.196695384%5D%2C%20%5B-86.24398047800003%2C%2036.197069295%5D%2C%20%5B-86.24056785699997%2C%2036.197053324000024%5D%2C%20%5B-86.237442849%2C%2036.196939180000015%5D%2C%20%5B-86.231180554%2C%2036.19650571699998%5D%2C%20%5B-86.17692611400003%2C%2036.192663358%5D%2C%20%5B-86.13886421400002%2C%2036.19150306900002%5D%2C%20%5B-86.12113836200001%2C%2036.191653121%5D%2C%20%5B-86.09939053800002%2C%2036.19202079399997%5D%2C%20%5B-86.09718572700001%2C%2036.191981941%5D%2C%20%5B-86.096225157%2C%2036.19192303900002%5D%2C%20%5B-86.09493624999999%2C%2036.191724412999974%5D%2C%20%5B-86.09350575899998%2C%2036.191456921999986%5D%2C%20%5B-86.09081234500002%2C%2036.19078950699998%5D%2C%20%5B-86.08619907399998%2C%2036.18979390499999%5D%2C%20%5B-86.077562603%2C%2036.188035806000016%5D%2C%20%5B-86.06922872500002%2C%2036.186371125%5D%2C%20%5B-86.06098545499998%2C%2036.18439365199998%5D%2C%20%5B-86.02558458200002%2C%2036.177801756%5D%2C%20%5B-86.00223476600002%2C%2036.17236115100002%5D%2C%20%5B-85.99598728799998%2C%2036.17119020400003%5D%2C%20%5B-85.98521554000001%2C%2036.170064981999985%5D%2C%20%5B-85.981492302%2C%2036.16992540000001%5D%2C%20%5B-85.97893569399997%2C%2036.16999820299998%5D%2C%20%5B-85.97608522299998%2C%2036.16982205900001%5D%2C%20%5B-85.97321978000002%2C%2036.169455073999984%5D%2C%20%5B-85.97044256100003%2C%2036.168712836%5D%2C%20%5B-85.96652203899998%2C%2036.167230314%5D%2C%20%5B-85.963148273%2C%2036.166291247%5D%2C%20%5B-85.959438594%2C%2036.165692364%5D%2C%20%5B-85.9568698%2C%2036.165667245%5D%2C%20%5B-85.954950182%2C%2036.166106389%5D%2C%20%5B-85.952842176%2C%2036.166456959000016%5D%2C%20%5B-85.95075094100002%2C%2036.16639992400002%5D%2C%20%5B-85.94881514399998%2C%2036.165993241000024%5D%2C%20%5B-85.94652004599999%2C%2036.165316940000025%5D%2C%20%5B-85.94366928300002%2C%2036.164715909%5D%2C%20%5B-85.93881766499999%2C%2036.163846127%5D%2C%20%5B-85.93740854700002%2C%2036.16378047500001%5D%2C%20%5B-85.93621277699998%2C%2036.163819183999976%5D%2C%20%5B-85.93500561500002%2C%2036.163819390000015%5D%2C%20%5B-85.93372999899998%2C%2036.163746187000015%5D%2C%20%5B-85.93102497799998%2C%2036.16323015900002%5D%2C%20%5B-85.92164262799997%2C%2036.160960607%5D%2C%20%5B-85.911600277%2C%2036.158236376%5D%2C%20%5B-85.903922873%2C%2036.155967808000014%5D%2C%20%5B-85.899829969%2C%2036.155045418999975%5D%2C%20%5B-85.89593540200002%2C%2036.154378387%5D%2C%20%5B-85.893192139%2C%2036.15396808899999%5D%2C%20%5B-85.89048847200002%2C%2036.153638899999976%5D%2C%20%5B-85.886003819%2C%2036.15319709300002%5D%5D%2C%20%22type%22%3A%20%22LineString%22%7D%2C%20%22id%22%3A%20%220%22%2C%20%22properties%22%3A%20%7B%22Shape__Length%22%3A%201.0710752204014864%2C%20%22comments%22%3A%20%22An%20historic%2C%20long-track%2C%20strong%20EF-3%20tornado%20began%20in%20western%20Davidson%20County%20then%20tracked%20eastward%20for%20over%2060%20miles%20through%20Wilson%20County%20into%20Smith%20County%20before%20lifting%2C%20causing%205%20deaths%20and%20220%20injuries.%20This%20tornado%20touched%20down%20west%20of%20River%20Road%20Pike%20then%20moved%20eastward%20across%20Bells%20Bend%2C%20destroying%20a%20barn%20and%20blowing%20down%20numerous%20trees.%20The%20tornado%20strengthened%20significantly%20and%20widened%20to%200.65%20miles%20wide%20as%20it%20crossed%20the%20Cumberland%20River%20into%20the%20John%20C.%20Tune%20Airport%20area%2C%20causing%20strong%20EF-2%20damage%20to%20numerous%20planes%2C%20hangers%2C%20warehouses%2C%20and%20other%20buildings%20from%20Cockrill%20Bend%20Way%20to%20Briley%20Parkway.%20Over%20%2490%20million%20in%20damage%20was%20reported%20at%20John%20Tune%20Airport%20alone.%20Continuing%20eastward%2C%20the%20tornado%20caused%20severe%20damage%20to%20the%20Tennessee%20State%20Prison%20and%20blew%20down%20numerous%20high-tension%20transmission%20towers%20as%20it%20again%20crossed%20the%20Cumberland%20River%20into%20North%20Nashville%2C%20with%20up%20to%20EF-2%20damage%20to%20farm%20facilities%20at%20Tennessee%20State%20University%20and%20dozens%20of%20homes%20between%20I-40%20and%20Buchanan%20Street.%20EF-2%20damage%20continued%20across%20the%20Germantown%20neighborhood%20just%201/2%20mile%20north%20of%20downtown%20Nashville%20with%20several%20damaged%20and%20destroyed%20apartment%20complexes%2C%20homes%2C%20and%20businesses.%20The%20tornado%20intensified%20further%20as%20it%20tracked%20through%20East%20Nashville%2C%20with%20EF-3%20damage%20to%20businesses%20and%20other%20buildings%20in%20the%20Five%20Points%20area%20and%20EF-2%20damage%20to%20homes%20in%20the%20Lockeland%20Springs%20and%20Barclay%20Drive%20neighborhoods.%20Two%20people%20were%20killed%20in%20Five%20Points%20after%20leaving%20a%20bar%20and%20going%20outside%20as%20the%20tornado%20struck.%20After%20crossing%20the%20Cumberland%20River%20yet%20again%2C%20the%20tornado%20weakened%20as%20it%20moved%20northeast%20through%20the%20Donelson%20Hills%20and%20Lincoya%20Hills%20neighborhoods%20of%20Donelson%2C%20but%20strengthened%20again%20to%20a%20strong%20EF-3%20in%20the%20Standford%20Estates%20area%20where%20several%20homes%20were%20leveled.%20The%20tornado%20weakened%20slightly%20but%20continued%20to%20cause%20EF-2%20damage%20to%20homes%20and%20businesses%20as%20it%20turned%20southeast%20and%20passed%20through%20Hermitage%20into%20Wilson%20County.%20Dozens%20of%20homes%20continued%20to%20sustain%20up%20to%20EF-2%20damage%20as%20the%20tornado%20moved%20across%20the%20Chandler%20Road%20and%20Triple%20Crown%20Parkway%20neighborhoods%20of%20Mount%20Juliet.%20Turning%20more%20to%20the%20northeast%2C%20the%20tornado%20strenghtened%20to%20strong%20EF-3%20and%20leveled%20numerous%20homes%20in%20the%20Catalpa%20Drive%20and%20Clearview%20Drive%20neighborhoods%2C%20with%20one%20elderly%20couple%20killed%20on%20Catalpa%20Drive%20at%20Dogwood%20Drive.%20Crossing%20Mount%20Juliet%20Road%2C%20the%20tornado%20severely%20damaged%20West%20Wilson%20Middle%20School%20and%20Stoner%20Creek%20Elementary%20School%2C%20both%20of%20which%20will%20have%20to%20be%20torn%20down%20and%20rebuilt.%20The%20tornado%20reached%20its%20peak%20intensity%20of%20high-end%20EF-3%20and%20peak%20size%20of%200.9%20miles%20wide%20as%20it%20moved%20across%20Golden%20Bear%20Parkway%20and%20along%20Eastgate%20Blvd%2C%20leveling%20several%20large%20warehouses%20and%20killing%20a%20security%20guard%20at%20the%20CEVA%20warehouse%20on%20Athletes%20Way%20North.%20Crossing%20Highway%20109%20into%20Lebanon%2C%20the%20tornado%20weakened%20to%20EF-2%20but%20continued%20damaging%20dozens%20of%20homes%20and%20businesses%20as%20it%20moved%20through%20southern%20sections%20of%20the%20city.%20Further%20to%20the%20east%2C%20buildings%20on%20both%20sides%20of%20I-40%20in%20Tuckers%20Crossroads%20received%20up%20to%20EF-2%20damage%20before%20the%20tornado%20turned%20southeast%20and%20crossed%20into%20Smith%20County.%20Weakening%20and%20shrinking%20in%20size%2C%20the%20tornado%20caused%20EF-1%20damage%20to%20numerous%20homes%20and%20businesses%20in%20Grant%2C%20New%20Middleton%2C%20and%20just%20south%20of%20Gordonsville.%20The%20tornado%20finally%20lifted%20east%20of%20Highway%20141%20and%20north%20of%20Judkins%20Lane%20after%20a%20continuous%2060.13%20miles%20on%20the%20ground.%22%2C%20%22created_date%22%3A%201583461561000%2C%20%22created_user%22%3A%20%22DATians%22%2C%20%22cropdamage%22%3A%20-99%2C%20%22edit_time%22%3A%20null%2C%20%22edit_user%22%3A%20null%2C%20%22efnum%22%3A%203%2C%20%22efscale%22%3A%20%22EF3%22%2C%20%22endlat%22%3A%2036.1532%2C%20%22endlon%22%3A%20-85.886%2C%20%22endtime%22%3A%201583220900000%2C%20%22event_id%22%3A%20%22Nashville%22%2C%20%22fatalities%22%3A%205%2C%20%22globalid%22%3A%20%22%7BE1287531-EF41-49C9-B8B0-63AF1C086F34%7D%22%2C%20%22injuries%22%3A%20220%2C%20%22last_edited_date%22%3A%201618703241000%2C%20%22last_edited_user%22%3A%20%22dat_editor%22%2C%20%22length%22%3A%2060.1317%2C%20%22maxwind%22%3A%20165%2C%20%22objectid%22%3A%20879879%2C%20%22propdamage%22%3A%20-99%2C%20%22qc%22%3A%20%22Y%22%2C%20%22startlat%22%3A%2036.1725%2C%20%22startlon%22%3A%20-86.9478%2C%20%22starttime%22%3A%201583217120000%2C%20%22stormdate%22%3A%201583217120000%2C%20%22width%22%3A%201600%7D%2C%20%22type%22%3A%20%22Feature%22%7D%2C%20%7B%22bbox%22%3A%20%5B-87.62262896599998%2C%2032.684637545999976%2C%20-87.549244557%2C%2032.69041143099997%5D%2C%20%22geometry%22%3A%20%7B%22coordinates%22%3A%20%5B%5B-87.62262896599998%2C%2032.684637545999976%5D%2C%20%5B-87.62182390100003%2C%2032.684832255%5D%2C%20%5B-87.62093072599998%2C%2032.68504671599999%5D%2C%20%5B-87.61970495600002%2C%2032.685340753%5D%2C%20%5B-87.61689856100003%2C%2032.686024202%5D%2C%20%5B-87.61507465900002%2C%2032.68651181299998%5D%2C%20%5B-87.61334731599999%2C%2032.687037797000016%5D%2C%20%5B-87.612499738%2C%2032.68725451%5D%2C%20%5B-87.60975000899998%2C%2032.687377501000014%5D%2C%20%5B-87.60494348999998%2C%2032.68809987499998%5D%2C%20%5B-87.59829161200003%2C%2032.688885449%5D%2C%20%5B-87.591682649%2C%2032.68976131199997%5D%2C%20%5B-87.58563158599998%2C%2032.69041143099997%5D%2C%20%5B-87.57816431600003%2C%2032.68980645900001%5D%2C%20%5B-87.57340071200002%2C%2032.689264690000016%5D%2C%20%5B-87.56447432099998%2C%2032.68807278600002%5D%2C%20%5B-87.54924589900003%2C%2032.686258301%5D%2C%20%5B-87.549244557%2C%2032.686257511%5D%2C%20%5B-87.54924589900003%2C%2032.686258301%5D%5D%2C%20%22type%22%3A%20%22LineString%22%7D%2C%20%22id%22%3A%20%221%22%2C%20%22properties%22%3A%20%7B%22Shape__Length%22%3A%200.07415888548164333%2C%20%22comments%22%3A%20%22None%22%2C%20%22created_date%22%3A%201583353305000%2C%20%22created_user%22%3A%20%22DATians%22%2C%20%22cropdamage%22%3A%20-99%2C%20%22edit_time%22%3A%20null%2C%20%22edit_user%22%3A%20null%2C%20%22efnum%22%3A%200%2C%20%22efscale%22%3A%20%22EF0%22%2C%20%22endlat%22%3A%2032.6863%2C%20%22endlon%22%3A%20-87.5492%2C%20%22endtime%22%3A%201583237520000%2C%20%22event_id%22%3A%20%22Hwy%2069%20Ballpark%20Tornado%22%2C%20%22fatalities%22%3A%200%2C%20%22globalid%22%3A%20%22%7B8DE1ED11-01A1-4370-AA7D-EF7BA468CFD9%7D%22%2C%20%22injuries%22%3A%200%2C%20%22last_edited_date%22%3A%201583358165000%2C%20%22last_edited_user%22%3A%20%22DATians%22%2C%20%22length%22%3A%204.34%2C%20%22maxwind%22%3A%2075%2C%20%22objectid%22%3A%20879077%2C%20%22propdamage%22%3A%20-99%2C%20%22qc%22%3A%20%22Y%22%2C%20%22startlat%22%3A%2032.6846%2C%20%22startlon%22%3A%20-87.6226%2C%20%22starttime%22%3A%201583237040000%2C%20%22stormdate%22%3A%201583237040000%2C%20%22width%22%3A%20-99%7D%2C%20%22type%22%3A%20%22Feature%22%7D%2C%20%7B%22bbox%22%3A%20%5B-87.04955789899998%2C%2032.86264755399998%2C%20-86.94319497200001%2C%2032.86588734399999%5D%2C%20%22geometry%22%3A%20%7B%22coordinates%22%3A%20%5B%5B-87.04955789899998%2C%2032.864763521999976%5D%2C%20%5B-87.04019326100001%2C%2032.864589663%5D%2C%20%5B-87.029271306%2C%2032.865058272%5D%2C%20%5B-87.02530163699998%2C%2032.86588734399999%5D%2C%20%5B-87.01897162400002%2C%2032.865707112%5D%2C%20%5B-87.015023412%2C%2032.865238506000026%5D%2C%20%5B-87.008065526%2C%2032.86449092999999%5D%2C%20%5B-86.98755042599998%2C%2032.86264755399998%5D%2C%20%5B-86.96879899599998%2C%2032.864269838999974%5D%2C%20%5B-86.949969888%2C%2032.86425181599998%5D%2C%20%5B-86.94319497200001%2C%2032.864644098999975%5D%5D%2C%20%22type%22%3A%20%22LineString%22%7D%2C%20%22id%22%3A%20%222%22%2C%20%22properties%22%3A%20%7B%22Shape__Length%22%3A%200.10669461716781534%2C%20%22comments%22%3A%20%22Path%22%2C%20%22created_date%22%3A%201583357522000%2C%20%22created_user%22%3A%20%22DATians%22%2C%20%22cropdamage%22%3A%20-99%2C%20%22edit_time%22%3A%20null%2C%20%22edit_user%22%3A%20null%2C%20%22efnum%22%3A%201%2C%20%22efscale%22%3A%20%22EF1%22%2C%20%22endlat%22%3A%2032.8646%2C%20%22endlon%22%3A%20-86.9432%2C%20%22endtime%22%3A%201583239080000%2C%20%22event_id%22%3A%20%22Lawley%20Tornado%22%2C%20%22fatalities%22%3A%200%2C%20%22globalid%22%3A%20%22%7B12A81B8D-DAC1-4913-A6CD-25C63B61048C%7D%22%2C%20%22injuries%22%3A%200%2C%20%22last_edited_date%22%3A%201583359203000%2C%20%22last_edited_user%22%3A%20%22DATians%22%2C%20%22length%22%3A%206.21%2C%20%22maxwind%22%3A%20110%2C%20%22objectid%22%3A%20879081%2C%20%22propdamage%22%3A%20-99%2C%20%22qc%22%3A%20%22Y%22%2C%20%22startlat%22%3A%2032.8648%2C%20%22startlon%22%3A%20-87.0496%2C%20%22starttime%22%3A%201583238480000%2C%20%22stormdate%22%3A%201583238480000%2C%20%22width%22%3A%20525%7D%2C%20%22type%22%3A%20%22Feature%22%7D%2C%20%7B%22bbox%22%3A%20%5B-85.662847698%2C%2036.170947646%2C%20-85.51346313900001%2C%2036.17698641700002%5D%2C%20%22geometry%22%3A%20%7B%22coordinates%22%3A%20%5B%5B-85.662847698%2C%2036.171507142%5D%2C%20%5B-85.61103063799999%2C%2036.175790704%5D%2C%20%5B-85.59918600200001%2C%2036.176622099999975%5D%2C%20%5B-85.58796298099998%2C%2036.17698641700002%5D%2C%20%5B-85.581418616%2C%2036.17698600199998%5D%2C%20%5B-85.566033899%2C%2036.17546160699999%5D%2C%20%5B-85.55451357200002%2C%2036.17427633699998%5D%2C%20%5B-85.53689437999998%2C%2036.17288074800001%5D%2C%20%5B-85.52475236499998%2C%2036.17170524699998%5D%2C%20%5B-85.51346313900001%2C%2036.170947646%5D%5D%2C%20%22type%22%3A%20%22LineString%22%7D%2C%20%22id%22%3A%20%223%22%2C%20%22properties%22%3A%20%7B%22Shape__Length%22%3A%200.14986986313135%2C%20%22comments%22%3A%20%22An%20historic%2C%20violent%20EF-4%20tornado%20began%20in%20western%20Putnam%20County%20northwest%20of%20Baxter%20and%20tracked%20eastward%20for%20over%208%20miles%20before%20lifting%20near%20downtown%20Cookeville%2C%20damaging%20or%20destroying%20dozens%20of%20homes%20and%20businesses%2C%20killing%2019%20people%2C%20and%20injuring%2088%20others.%20The%20tornado%20began%202.5%20miles%20northwest%20of%20Baxter%20along%20Highway%2070%20where%20it%20caused%20EF-0%20damage%20to%20several%20homes%20and%20outbuildings.%20Scattered%20trees%20were%20blown%20down%20as%20the%20tornado%20continued%20eastward%20across%20Gainesboro%20Highway.%20The%20tornado%20quickly%20intensified%20to%20EF-2%20in%20the%20Prosperity%20Pointe%20subdivision%20just%20north%20of%20Highway%2070%20and%20further%20strengthened%20to%20EF-3%20as%20it%20crossed%20Bloomington%20Road%20and%20Clemmons%20Road%20in%20the%20Double%20Springs%20community%2C%20severely%20damaging%20several%20homes.%20As%20the%20tornado%20moved%20across%20Charleston%20Square%2C%20Plunk%20Whitson%20Road%2C%20and%20North%20McBloom%20Chapel%20Road%2C%20it%20intensified%20even%20more%20and%20produced%20a%200.8%20mile%20long%20by%20100%20yards%20wide%20swath%20of%20EF-4%20damage.%2017%20well-constructed%2C%20large%20homes%20in%20this%20area%20were%20completely%20leveled%2C%20mostly%20on%20Hensley%20Drive%2C%20with%20many%20deaths%20occurring%20in%20this%20area.%20EF-4%20damage%20continued%20eastward%20to%20Echo%20Valley%20Drive%2C%20where%20an%20apartment%20complex%20was%20completely%20destroyed%20and%205%20more%20homes.%20The%20tornado%20weakened%20to%20EF-3%20as%20it%20crossed%20Highway%2070%20and%20Locust%20Grove%20Road%2C%20where%20numerous%20more%20homes%20and%20buildings%20were%20damaged%20or%20destroyed.%20A%20dashcam%20video%20of%20the%20tornado%20was%20taken%20from%20an%20unoccupied%20vehicle%20on%20Willow%20Brook%20Drive%20in%20this%20area.%20Continuing%20along%20Highway%2070%2C%20the%20tornado%20weakened%20further%20to%20EF-2%20intensity%20as%20it%20crossed%20County%20Farm%20Road%20and%20Jackson%20Street%2C%20then%20down%20to%20EF-1%20strength%20along%20Crescent%20Drive%20and%20Buck%20Avenue.%20The%20tornado%20rapdily%20dissipated%20as%20it%20entered%20the%20downtown%20area%20of%20Cookeville%2C%20quickly%20lifting%20on%20Laurel%20Avenue%20just%20west%20of%20Cookeville%20Regional%20Medical%20Center.%20This%20was%20the%20worst%20tornado%20on%20record%20to%20affect%20Putnam%20County.%22%2C%20%22created_date%22%3A%201583461208000%2C%20%22created_user%22%3A%20%22DATians%22%2C%20%22cropdamage%22%3A%20-99%2C%20%22edit_time%22%3A%20null%2C%20%22edit_user%22%3A%20null%2C%20%22efnum%22%3A%204%2C%20%22efscale%22%3A%20%22EF4%22%2C%20%22endlat%22%3A%2036.1709%2C%20%22endlon%22%3A%20-85.5135%2C%20%22endtime%22%3A%201583222160000%2C%20%22event_id%22%3A%20%22Cookeville%22%2C%20%22fatalities%22%3A%2019%2C%20%22globalid%22%3A%20%22%7B289652C9-D2A9-4DBB-83BD-DC37B17EC880%7D%22%2C%20%22injuries%22%3A%2087%2C%20%22last_edited_date%22%3A%201590771008000%2C%20%22last_edited_user%22%3A%20%22DATians%22%2C%20%22length%22%3A%208.39%2C%20%22maxwind%22%3A%20175%2C%20%22objectid%22%3A%20879877%2C%20%22propdamage%22%3A%20100000%2C%20%22qc%22%3A%20%22Y%22%2C%20%22startlat%22%3A%2036.1715%2C%20%22startlon%22%3A%20-85.6628%2C%20%22starttime%22%3A%201583221680000%2C%20%22stormdate%22%3A%201583221680000%2C%20%22width%22%3A%20900%7D%2C%20%22type%22%3A%20%22Feature%22%7D%2C%20%7B%22bbox%22%3A%20%5B-85.44610375100001%2C%2036.106800894%2C%20-85.44202679300003%2C%2036.107459662%5D%2C%20%22geometry%22%3A%20%7B%22coordinates%22%3A%20%5B%5B-85.44610375100001%2C%2036.107459662%5D%2C%20%5B-85.44202679300003%2C%2036.106800894%5D%5D%2C%20%22type%22%3A%20%22LineString%22%7D%2C%20%22id%22%3A%20%224%22%2C%20%22properties%22%3A%20%7B%22Shape__Length%22%3A%200.004129837988523848%2C%20%22comments%22%3A%20%22A%20very%20brief%20and%20weak%20EF-0%20tornado%20touched%20down%20just%20off%20of%20Highway%2070%20and%20Overstreet%20Drive%20southeast%20of%20Cookeville%20in%20the%20Dry%20Valley%20and%20Goffton%20area.%20Damage%20was%20mostly%20to%20the%20roof%20of%20one%20house%2C%20metal%20garage%2C%20and%20an%20outbuilding.%20There%20were%20also%20several%20trees%20with%20large%20branches%20broken%20off.%22%2C%20%22created_date%22%3A%201583461360000%2C%20%22created_user%22%3A%20%22DATians%22%2C%20%22cropdamage%22%3A%20-99%2C%20%22edit_time%22%3A%20null%2C%20%22edit_user%22%3A%20null%2C%20%22efnum%22%3A%200%2C%20%22efscale%22%3A%20%22EF0%22%2C%20%22endlat%22%3A%2036.1068%2C%20%22endlon%22%3A%20-85.442%2C%20%22endtime%22%3A%201583222760000%2C%20%22event_id%22%3A%20%22Goffton%22%2C%20%22fatalities%22%3A%200%2C%20%22globalid%22%3A%20%22%7B31783A8B-1916-450E-879E-4838A66733F2%7D%22%2C%20%22injuries%22%3A%200%2C%20%22last_edited_date%22%3A%201590604073000%2C%20%22last_edited_user%22%3A%20%22DATians%22%2C%20%22length%22%3A%200.23%2C%20%22maxwind%22%3A%2075%2C%20%22objectid%22%3A%20879878%2C%20%22propdamage%22%3A%20-99%2C%20%22qc%22%3A%20%22Y%22%2C%20%22startlat%22%3A%2036.1075%2C%20%22startlon%22%3A%20-85.4461%2C%20%22starttime%22%3A%201583222700000%2C%20%22stormdate%22%3A%201583222700000%2C%20%22width%22%3A%2025%7D%2C%20%22type%22%3A%20%22Feature%22%7D%2C%20%7B%22bbox%22%3A%20%5B-85.04006002099999%2C%2036.12429526400001%2C%20-84.86191663599999%2C%2036.141743503999976%5D%2C%20%22geometry%22%3A%20%7B%22coordinates%22%3A%20%5B%5B-85.04006002099999%2C%2036.139892379%5D%2C%20%5B-85.03399608299998%2C%2036.14152126800002%5D%2C%20%5B-85.03116776799999%2C%2036.14173899399998%5D%2C%20%5B-85.028109975%2C%2036.141743503999976%5D%2C%20%5B-85.02291185500002%2C%2036.14133628600001%5D%2C%20%5B-84.988058594%2C%2036.13915718200002%5D%2C%20%5B-84.96498078899998%2C%2036.13638300500003%5D%2C%20%5B-84.94575762%2C%2036.13319413300002%5D%2C%20%5B-84.934254125%2C%2036.131913638000015%5D%2C%20%5B-84.92100177100002%2C%2036.13004727200001%5D%2C%20%5B-84.906346079%2C%2036.12848710100002%5D%2C%20%5B-84.874961225%2C%2036.12483894500002%5D%2C%20%5B-84.86191663599999%2C%2036.12429526400001%5D%5D%2C%20%22type%22%3A%20%22LineString%22%7D%2C%20%22id%22%3A%20%225%22%2C%20%22properties%22%3A%20%7B%22Shape__Length%22%3A%200.17938682653981047%2C%20%22comments%22%3A%20%22An%20EF-2%20tornado%20touched%20down%20near%20the%20intersection%20of%20Highway%20127%20and%20Atkins%20Road%20in%20Rinnie%20where%20trees%20were%20uprooted%20and%20a%20single%20wide%20mobile%20home%20sustained%20roof%20damage.%20The%20tornado%20moved%20northeast%20and%20crossed%20Smith%20Road%2C%20causing%20minor%20roof%20damage%20to%20two%20homes%2C%20destroying%20two%20outbuildings%2C%20pushing%20over%20a%20power%20pole%2C%20and%20uprooting%20approximately%2020%20trees.%20Taking%20an%20eastward%20turn%2C%20the%20tornado%20tracked%20just%20south%20of%20Beaty%20Road%20where%20more%20trees%20were%20uprooted%20and%20two%20additional%20outbuildings%20were%20destroyed.%20The%20tornado%20strengthened%20to%20EF-1%20as%20it%20continued%20east-southeast%2C%20uprooting%20dozens%20of%20trees%20on%20Cold%20Springs%20Road%20and%20Myatt%20Creek%20Road.%20Entering%20the%20Catoosa%20Wildlife%20Management%20Area%2C%20the%20tornado%20reached%20its%20maximum%20width%20and%20peak%20intensity%20of%20EF-2%20as%20it%20snapped%20and%20uprooted%20thousands%20of%20trees%20across%20Turner%20Creason%20Road%2C%20Charlie%20McCoy%20Road%2C%20and%20Roy%20Taylor%20Road.%20The%20tornado%20weakened%20as%20it%20moved%20further%20to%20the%20east%20and%20crossed%20John%20Q%20Wyatt%20Road%2C%20and%20is%20estimated%20to%20have%20lifted%20along%20the%20Morgan%20County%20border%20north%20of%20Witt%20Road.%20However%2C%20the%20tornado%20may%20have%20continued%20eastward%20into%20Morgan%20County%2C%20and%20the%20path%20may%20be%20extended%20in%20the%20future%20once%20high%20resolution%20satellite%20imagery%20becomes%20available.%22%2C%20%22created_date%22%3A%201583534817000%2C%20%22created_user%22%3A%20%22DATians%22%2C%20%22cropdamage%22%3A%20-99%2C%20%22edit_time%22%3A%20null%2C%20%22edit_user%22%3A%20null%2C%20%22efnum%22%3A%202%2C%20%22efscale%22%3A%20%22EF2%22%2C%20%22endlat%22%3A%2036.1243%2C%20%22endlon%22%3A%20-84.8619%2C%20%22endtime%22%3A%201583224500000%2C%20%22event_id%22%3A%20%22Cumberland%22%2C%20%22fatalities%22%3A%200%2C%20%22globalid%22%3A%20%22%7B6B76F0E3-9E07-412E-8300-856252CEDBD0%7D%22%2C%20%22injuries%22%3A%200%2C%20%22last_edited_date%22%3A%201590605084000%2C%20%22last_edited_user%22%3A%20%22DATians%22%2C%20%22length%22%3A%2010.07%2C%20%22maxwind%22%3A%20115%2C%20%22objectid%22%3A%20879880%2C%20%22propdamage%22%3A%20-99%2C%20%22qc%22%3A%20%22Y%22%2C%20%22startlat%22%3A%2036.1399%2C%20%22startlon%22%3A%20-85.0401%2C%20%22starttime%22%3A%201583223900000%2C%20%22stormdate%22%3A%201583223900000%2C%20%22width%22%3A%20500%7D%2C%20%22type%22%3A%20%22Feature%22%7D%2C%20%7B%22bbox%22%3A%20%5B-85.80550061899999%2C%2036.160165045999975%2C%20-85.747890917%2C%2036.17111412999998%5D%2C%20%22geometry%22%3A%20%7B%22coordinates%22%3A%20%5B%5B-85.80550061899999%2C%2036.160165045999975%5D%2C%20%5B-85.797780005%2C%2036.16301616800001%5D%2C%20%5B-85.78191205600001%2C%2036.16662557799998%5D%2C%20%5B-85.75704932000002%2C%2036.170214524000016%5D%2C%20%5B-85.747890917%2C%2036.17111412999998%5D%5D%2C%20%22type%22%3A%20%22LineString%22%7D%2C%20%22id%22%3A%20%226%22%2C%20%22properties%22%3A%20%7B%22Shape__Length%22%3A%200.058826428994113215%2C%20%22comments%22%3A%20%22An%20EF-0%20tornado%20touched%20down%20near%20the%20Smith/Putnam%20County%20line%20northwest%20of%20Buffalo%20Valley%20and%20then%20moved%20east-northeast%20across%20very%20hilly%20terrain%2C%20taking%20down%20several%20trees%20in%20the%20process.%20Several%20homes%20suffered%20roof%20damage%20and%20some%20outbuildings%20were%20damaged%20on%20St.%20Marys%20Road%2C%20and%20numerous%20trees%20were%20blown%20down.%20The%20tornado%20continued%20across%20Highway%2096%20to%20Rock%20Springs%20Road%20with%20continued%20tree%20damage%20and%20minor%20damage%20to%20outbuildings%2C%20before%20lifting%20just%20west%20of%20Stanton%20Road.%22%2C%20%22created_date%22%3A%201586271666000%2C%20%22created_user%22%3A%20%22DATians%22%2C%20%22cropdamage%22%3A%20-99%2C%20%22edit_time%22%3A%20null%2C%20%22edit_user%22%3A%20null%2C%20%22efnum%22%3A%200%2C%20%22efscale%22%3A%20%22EF0%22%2C%20%22endlat%22%3A%2036.1711%2C%20%22endlon%22%3A%20-85.7479%2C%20%22endtime%22%3A%201583221320000%2C%20%22event_id%22%3A%20%22Buffalo%20Valley%22%2C%20%22fatalities%22%3A%200%2C%20%22globalid%22%3A%20%22%7B92526506-0CEB-4648-9CBA-71BC9599F618%7D%22%2C%20%22injuries%22%3A%200%2C%20%22last_edited_date%22%3A%201598799052000%2C%20%22last_edited_user%22%3A%20%22DATians%22%2C%20%22length%22%3A%203.3233%2C%20%22maxwind%22%3A%2075%2C%20%22objectid%22%3A%20888677%2C%20%22propdamage%22%3A%20-99%2C%20%22qc%22%3A%20%22Y%22%2C%20%22startlat%22%3A%2036.1602%2C%20%22startlon%22%3A%20-85.8055%2C%20%22starttime%22%3A%201583221080000%2C%20%22stormdate%22%3A%201583221080000%2C%20%22width%22%3A%2050%7D%2C%20%22type%22%3A%20%22Feature%22%7D%5D%2C%20%22type%22%3A%20%22FeatureCollection%22%7D%29%3B%0A%20%20%20%20%20%20%20%20%0A%3C/script%3E onload=\"this.contentDocument.open();this.contentDocument.write(    decodeURIComponent(this.getAttribute('data-html')));this.contentDocument.close();\" allowfullscreen webkitallowfullscreen mozallowfullscreen></iframe></div></div>"
      ],
      "text/plain": [
       "<folium.folium.Map at 0x19c22062f70>"
      ]
     },
     "execution_count": 37,
     "metadata": {},
     "output_type": "execute_result"
    }
   ],
   "source": [
    "map_tornado = folium.Map(location =  area_center, zoom_start = 12)\n",
    "\n",
    "\n",
    "folium.GeoJson(tornado_paths, style_function = lambda x: {'color':'#00FF00', 'fillColor': '#00FF00'}).add_to(map_tornado)\n",
    "#folium.GeoJson(path_polygons).add_to(map_tornado)\n",
    "#folium.GeoJson(damage_points).add_to(map_tornado)\n",
    "\n",
    "\n",
    "\n",
    "map_tornado"
   ]
  },
  {
   "cell_type": "code",
   "execution_count": null,
   "id": "51cebfda",
   "metadata": {},
   "outputs": [],
   "source": []
  }
 ],
 "metadata": {
  "kernelspec": {
   "display_name": "Python [conda env:geospatial]",
   "language": "python",
   "name": "conda-env-geospatial-py"
  },
  "language_info": {
   "codemirror_mode": {
    "name": "ipython",
    "version": 3
   },
   "file_extension": ".py",
   "mimetype": "text/x-python",
   "name": "python",
   "nbconvert_exporter": "python",
   "pygments_lexer": "ipython3",
   "version": "3.8.5"
  }
 },
 "nbformat": 4,
 "nbformat_minor": 5
}
